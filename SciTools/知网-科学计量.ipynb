{
 "cells": [
  {
   "cell_type": "markdown",
   "id": "7006a039cdc9dccc",
   "metadata": {
    "collapsed": false
   },
   "source": [
    "# 1 合并文件\n",
    "在知网的开发工具——控制台中，输入下面的代码，可以实现翻页和选中。然后自己导出。\n",
    "```\n",
    "document.getElementById('selectCheckAll1').click();\n",
    "document.getElementById('Page_next_top').click();\n",
    "```"
   ]
  },
  {
   "cell_type": "code",
   "execution_count": null,
   "id": "3c1d7017",
   "metadata": {
    "is_executing": true
   },
   "outputs": [],
   "source": [
    "import os\n",
    "\n",
    "from core.util import Utils\n",
    "\n",
    "abs_path = r'C:\\Users\\Administrator\\Desktop\\论文\\cnki-科学计量'\n",
    "files = [os.path.join(abs_path, filename) for filename in os.listdir(abs_path)]\n",
    "tarfile = os.path.join(abs_path, 'CNKI-科学计量-合并.txt')\n",
    "print('合并后的文件', tarfile)\n",
    "Utils.merge_files(files, tarfile)"
   ]
  },
  {
   "cell_type": "markdown",
   "id": "72236ea3",
   "metadata": {},
   "source": [
    "# 2 解析CNKI文件"
   ]
  },
  {
   "cell_type": "code",
   "execution_count": null,
   "id": "7d2ed3e9",
   "metadata": {
    "is_executing": true
   },
   "outputs": [],
   "source": [
    "import pandas as pd\n",
    "pd.set_option('display.max_columns', 1000)\n",
    "pd.set_option('display.width', 1000)\n",
    "pd.set_option('display.max_colwidth', 1000)\n",
    "\n",
    "from core import Parser\n",
    "\n",
    "raw_df = Parser.parse_cnki(r'C:\\Users\\Administrator\\Desktop\\论文\\cnki-科学计量\\CNKI-科学计量-合并.txt')\n",
    "print(raw_df.shape)\n",
    "print(raw_df.columns)\n",
    "print(raw_df.head())"
   ]
  },
  {
   "cell_type": "markdown",
   "id": "30165641",
   "metadata": {},
   "source": [
    "# 3 重命名列名\n",
    "\n",
    "重命名是指对不同数据源的列，识别成软件认可的字段，这样方便进行下一步的处理和分析。\n"
   ]
  }
 ],
 "metadata": {
  "kernelspec": {
   "display_name": "Python 3",
   "language": "python",
   "name": "python3"
  },
  "language_info": {
   "codemirror_mode": {
    "name": "ipython",
    "version": 3
   },
   "file_extension": ".py",
   "mimetype": "text/x-python",
   "name": "python",
   "nbconvert_exporter": "python",
   "pygments_lexer": "ipython3",
   "version": "3.8.10"
  }
 },
 "nbformat": 4,
 "nbformat_minor": 5
}
