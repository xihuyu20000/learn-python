{
 "cells": [
  {
   "cell_type": "markdown",
   "id": "9397c29d",
   "metadata": {},
   "source": [
    "# 安装Pandas"
   ]
  },
  {
   "cell_type": "code",
   "execution_count": 30,
   "id": "initial_id",
   "metadata": {
    "collapsed": true,
    "is_executing": true
   },
   "outputs": [],
   "source": [
    "import numpy as np\n",
    "import pandas as pd\n"
   ]
  },
  {
   "cell_type": "markdown",
   "id": "75703afa",
   "metadata": {},
   "source": [
    "# 什么是Series？\n",
    "Series是pandas中最重要的数据结构，它是带有标签的一维数组。\n",
    "多个Series组成DataFrame。"
   ]
  },
  {
   "cell_type": "code",
   "execution_count": 31,
   "id": "b8f5aa5d",
   "metadata": {},
   "outputs": [
    {
     "name": "stdout",
     "output_type": "stream",
     "text": [
      "a    10\n",
      "b    20\n",
      "c    30\n",
      "d    40\n",
      "e    50\n",
      "Name: age, dtype: uint8\n"
     ]
    }
   ],
   "source": [
    "se1 = pd.Series(data=[10, 20, 30, 40, 50], index=['a', 'b', 'c', 'd', 'e'], name='age', dtype=np.uint8)\n",
    "print(se1)"
   ]
  },
  {
   "cell_type": "markdown",
   "id": "ace24d40",
   "metadata": {},
   "source": [
    "# Series如何索引？"
   ]
  },
  {
   "cell_type": "code",
   "execution_count": 32,
   "id": "3e44635f",
   "metadata": {},
   "outputs": [
    {
     "name": "stdout",
     "output_type": "stream",
     "text": [
      "40\n",
      "50\n"
     ]
    },
    {
     "name": "stderr",
     "output_type": "stream",
     "text": [
      "C:\\Users\\Administrator\\AppData\\Local\\Temp\\ipykernel_692\\3294199001.py:2: FutureWarning: Series.__getitem__ treating keys as positions is deprecated. In a future version, integer keys will always be treated as labels (consistent with DataFrame behavior). To access a value by position, use `ser.iloc[pos]`\n",
      "  s1 = se1[3]\n"
     ]
    }
   ],
   "source": [
    "## 整数索引，使用[整数] 或者 iloc[整数]\n",
    "s1 = se1[3]\n",
    "print(s1)\n",
    "s1 = se1.iloc[4]\n",
    "print(s1)"
   ]
  },
  {
   "cell_type": "code",
   "execution_count": 33,
   "id": "b2f067e6",
   "metadata": {},
   "outputs": [
    {
     "name": "stdout",
     "output_type": "stream",
     "text": [
      "50\n",
      "50\n"
     ]
    }
   ],
   "source": [
    "## 标签索引，使用[标签] 或者 loc[标签]\n",
    "s1 = se1['e']\n",
    "print(s1)\n",
    "s1 = se1.loc['e']\n",
    "print(s1)\n",
    "\n",
    "## 布尔索引"
   ]
  },
  {
   "cell_type": "markdown",
   "id": "b8add549",
   "metadata": {},
   "source": [
    "# Series如何切片？"
   ]
  },
  {
   "cell_type": "code",
   "execution_count": 34,
   "id": "f63e6d90548683b6",
   "metadata": {
    "collapsed": false
   },
   "outputs": [
    {
     "name": "stdout",
     "output_type": "stream",
     "text": [
      "b    20\n",
      "c    30\n",
      "Name: age, dtype: uint8\n",
      "b    20\n",
      "c    30\n",
      "Name: age, dtype: uint8\n"
     ]
    }
   ],
   "source": [
    "# 位置索引，是左闭有开区间\n",
    "print(se1.iloc[1:3])\n",
    "print(se1[1:3])"
   ]
  },
  {
   "cell_type": "code",
   "execution_count": 35,
   "id": "37160ddd",
   "metadata": {},
   "outputs": [
    {
     "name": "stdout",
     "output_type": "stream",
     "text": [
      "a    10\n",
      "b    20\n",
      "c    30\n",
      "d    40\n",
      "e    50\n",
      "Name: age, dtype: uint8\n",
      "a    10\n",
      "b    20\n",
      "c    30\n",
      "d    40\n",
      "e    50\n",
      "Name: age, dtype: uint8\n"
     ]
    }
   ],
   "source": [
    "# 标签索引，左右都是闭区间\n",
    "print(se1['a':'e'])\n",
    "print(se1.loc['a':'e'])"
   ]
  },
  {
   "cell_type": "markdown",
   "id": "52fbcaeb",
   "metadata": {},
   "source": [
    "#  Series有哪些属性？"
   ]
  },
  {
   "cell_type": "code",
   "execution_count": 36,
   "id": "4fc35ce0",
   "metadata": {},
   "outputs": [],
   "source": [
    "# Series有以下几个属性：\n",
    "# 1. values：Series的值\n",
    "# 2. index：Series的索引\n",
    "# 3. dtype：Series的值的数据类型\n",
    "# 4. size：Series的长度\n",
    "# 5. ndim：Series的维度\n",
    "# 6. T：Series的转置\n",
    "# 7. shape：Series的形状"
   ]
  },
  {
   "cell_type": "markdown",
   "id": "7b649282",
   "metadata": {},
   "source": [
    "# Series如何转换为DataFrame？"
   ]
  },
  {
   "cell_type": "code",
   "execution_count": 37,
   "id": "06a465f8",
   "metadata": {},
   "outputs": [
    {
     "name": "stdout",
     "output_type": "stream",
     "text": [
      "   age\n",
      "a   10\n",
      "b   20\n",
      "c   30\n",
      "d   40\n",
      "e   50\n",
      "   age\n",
      "a   10\n",
      "b   20\n",
      "c   30\n",
      "d   40\n",
      "e   50\n"
     ]
    }
   ],
   "source": [
    "# 使用pd.DataFrame()\n",
    "df1 = pd.DataFrame(se1, columns=['age'])\n",
    "print(df1)\n",
    "\n",
    "# 使用to_frame()\n",
    "print(se1.to_frame())"
   ]
  },
  {
   "cell_type": "markdown",
   "id": "0f309ce1",
   "metadata": {},
   "source": [
    "# 如何创建DataFrame？"
   ]
  },
  {
   "cell_type": "code",
   "execution_count": 45,
   "id": "d056e1c3",
   "metadata": {},
   "outputs": [
    {
     "name": "stdout",
     "output_type": "stream",
     "text": [
      "    Name  Age        City\n",
      "0    Tom   20      Boston\n",
      "1   Jack   30    New York\n",
      "2  Jerry   40  Washington\n",
      "     Name       Age        City\n",
      "0     Tom      Jack       Jerry\n",
      "1      20        30          40\n",
      "2  Boston  New York  Washington\n",
      "     Python  Java  JavaScript\n",
      "0        43     4         126\n",
      "1        42   117         115\n",
      "2        61    55         109\n",
      "3       145     9           6\n",
      "4        53   146         144\n",
      "..      ...   ...         ...\n",
      "495      55    66           2\n",
      "496      12    78          92\n",
      "497       1    42         145\n",
      "498      10    94         123\n",
      "499      21   137          83\n",
      "\n",
      "[500 rows x 3 columns]\n"
     ]
    }
   ],
   "source": [
    "# 使用dict 创建\n",
    "data = {\n",
    "    'Name': ['Tom', 'Jack', 'Jerry'],\n",
    "    \"Age\": [20, 30, 40],\n",
    "    'City': ['Boston', 'New York', 'Washington']\n",
    "}\n",
    "df1 = pd.DataFrame(data)\n",
    "print(df1)\n",
    "\n",
    "# 使用 二维list或者tuple 创建\n",
    "data = [\n",
    "    ['Tom', 'Jack', 'Jerry'],\n",
    "    [20, 30, 40],\n",
    "    ['Boston', 'New York', 'Washington']\n",
    "]\n",
    "df2 = pd.DataFrame(data, columns=['Name', 'Age', ' City'])\n",
    "print(df2)\n",
    "\n",
    "# 从numpy数组创建\n",
    "df3 = pd.DataFrame(data=np.random.randint(0, 151, size=(500, 3)), columns=['Python', 'Java', 'JavaScript'],\n",
    "                   dtype=np.uint8)\n",
    "print(df3)"
   ]
  },
  {
   "cell_type": "markdown",
   "id": "3aa0bd96",
   "metadata": {},
   "source": [
    "# Pandas如何读写文件？"
   ]
  },
  {
   "cell_type": "code",
   "execution_count": null,
   "id": "a2bdadb4",
   "metadata": {},
   "outputs": [],
   "source": [
    "# df.to_csv('文件名.csv', sep='分隔符', index=False)\n",
    "# df.to_excel()\n",
    "# df.to_json()"
   ]
  },
  {
   "cell_type": "markdown",
   "id": "3821c051",
   "metadata": {},
   "source": [
    "# Excel中写入多个表单？\n",
    "```\n",
    "# 创建多个DataFrame，创建一个ExcelWriter对象，使用to_excel()方法\n",
    "```"
   ]
  },
  {
   "cell_type": "code",
   "execution_count": null,
   "id": "191aed62",
   "metadata": {},
   "outputs": [],
   "source": []
  },
  {
   "cell_type": "markdown",
   "id": "5e139251",
   "metadata": {},
   "source": [
    "# 如何创建多层索引？"
   ]
  },
  {
   "cell_type": "code",
   "execution_count": 46,
   "id": "74fc6671",
   "metadata": {},
   "outputs": [
    {
     "name": "stdout",
     "output_type": "stream",
     "text": [
      "       一月   二月   三月\n",
      "物品 颜色              \n",
      "桌子 红色  20  210  120\n",
      "   绿色  30  310  130\n",
      "椅子 红色  40  410  140\n",
      "   绿色  50  510  150\n"
     ]
    }
   ],
   "source": [
    "# 使用pd.MultiIndex.from_tuples\n",
    "index = pd.MultiIndex.from_tuples(tuples=[('桌子', '红色'), ('桌子', '绿色'), ('椅子', '红色'), ('椅子', '绿色')],\n",
    "                                  names=['物品', '颜色'])\n",
    "data = {\n",
    "    '一月': [20, 30, 40, 50],\n",
    "    '二月': [210, 310, 410, 510],\n",
    "    '三月': [120, 130, 140, 150],\n",
    "}\n",
    "df3 = pd.DataFrame(data=data, index=index)\n",
    "print(df3)\n",
    "\n",
    "# 使用pd.MultiIndex.from_arrays\n",
    "# 使用pd.MultiIndex.from_product"
   ]
  },
  {
   "cell_type": "markdown",
   "id": "0eda3a94",
   "metadata": {},
   "source": [
    "# 读写多层索引？"
   ]
  },
  {
   "cell_type": "markdown",
   "id": "2182a8b0",
   "metadata": {},
   "source": [
    "# melt、pivot进行数据重塑\n",
    "包括转置、行列转换、以及使用melt和pivot函数进行数据转换"
   ]
  },
  {
   "cell_type": "code",
   "execution_count": 58,
   "id": "9ffa928f",
   "metadata": {},
   "outputs": [
    {
     "name": "stdout",
     "output_type": "stream",
     "text": [
      "    Name  Math  Chinese  English\n",
      "0    Tom    30       20       40\n",
      "1   Jack    40       30       40\n",
      "2  Jerry    50       40       50\n",
      "3   Mary    60       50       60\n",
      "4   Lisi    70       60       70\n",
      "     Name  subject  score\n",
      "0     Tom     Math     30\n",
      "1    Jack     Math     40\n",
      "2   Jerry     Math     50\n",
      "3    Mary     Math     60\n",
      "4    Lisi     Math     70\n",
      "5     Tom  Chinese     20\n",
      "6    Jack  Chinese     30\n",
      "7   Jerry  Chinese     40\n",
      "8    Mary  Chinese     50\n",
      "9    Lisi  Chinese     60\n",
      "10    Tom  English     40\n",
      "11   Jack  English     40\n",
      "12  Jerry  English     50\n",
      "13   Mary  English     60\n",
      "14   Lisi  English     70\n",
      "subject  Chinese  English  Math\n",
      "Name                           \n",
      "Jack          30       40    40\n",
      "Jerry         40       50    50\n",
      "Lisi          60       70    70\n",
      "Mary          50       60    60\n",
      "Tom           20       40    30\n",
      "(5, 3)\n"
     ]
    }
   ],
   "source": [
    "# 转置.T\n",
    "# print(df1.T)\n",
    "\n",
    "# 使用melt 列变行，宽表转长表\n",
    "df4 = pd.DataFrame({\n",
    "    'Name': ['Tom', 'Jack', 'Jerry', 'Mary', 'Lisi'],\n",
    "    'Math': [30, 40, 50, 60, 70],\n",
    "    'Chinese': [20, 30, 40, 50, 60],\n",
    "    'English': [40, 40, 50, 60, 70],\n",
    "})\n",
    "print(df4)\n",
    "df5 = df4.melt(id_vars='Name', value_name='score', var_name='subject')\n",
    "print(df5)\n",
    "\n",
    "# 使用pivot 行变列，长表转宽表\n",
    "df6 = df5.pivot(index='Name', columns='subject', values='score')\n",
    "print(df6)\n",
    "print(df6.shape)\n",
    "\n",
    "# 13 如何使用groupby函数进行分组\n",
    "# 14 如何使用pivot_table函数进行数据重塑\n",
    "# 15 如何使用merge函数进行数据合并\n",
    "# 16 如何使用crosstab函数进行数据交叉\n",
    "# 17 如何使用qcut函数进行数据分箱\n",
    "# 18 如何使用cut函数进行数据分箱"
   ]
  },
  {
   "cell_type": "markdown",
   "id": "6e5993c0",
   "metadata": {},
   "source": [
    "# stack、unstack实现多层索引的行列转换"
   ]
  },
  {
   "cell_type": "markdown",
   "id": "4e071d91",
   "metadata": {},
   "source": [
    "# concat实现数据合并"
   ]
  },
  {
   "cell_type": "code",
   "execution_count": null,
   "id": "66d3eaa2",
   "metadata": {},
   "outputs": [],
   "source": [
    "# concat 可以实现行或者列合并， \n",
    "# pd.concat([df1, df2])   行合并，行更多\n",
    "\n",
    "# df.reset_index(drop=True)  行合并之后，index不对。reset指的是原来的index删除，使用新的index替代\n",
    "\n",
    "# pd.concat([df1, df2], axis=1)  列合并，列更多\n"
   ]
  },
  {
   "cell_type": "markdown",
   "id": "863913aa",
   "metadata": {},
   "source": [
    "# merge实现数据融合\n",
    "将2个DataFrame根据共同的列进行数据融合。类似于SQL中的join"
   ]
  },
  {
   "cell_type": "code",
   "execution_count": null,
   "id": "bcef23d3",
   "metadata": {},
   "outputs": [],
   "source": [
    "# pd.merge([df1, df2], on='id')\n",
    "# pd.merge([df1, df2], left_on='ID', right_on='sid')    # 两个df的列名不同，左右分别指定\n",
    "# pd.merge([df1, df2], on='id', how='inner')    # 表连接方式，inner、left、right、outer、cross等\n",
    "# pd.merge(..., left_index=True, right_index=True)"
   ]
  },
  {
   "cell_type": "markdown",
   "id": "0000fd8e",
   "metadata": {},
   "source": [
    "# 使用join进行数据连接\n",
    "\n",
    "```\n",
    "# df1.set_index(...)  # 重新设置索引\n",
    "```"
   ]
  },
  {
   "cell_type": "markdown",
   "id": "b433e1de",
   "metadata": {},
   "source": [
    "# 使用[]筛选列数据\n",
    "\n",
    "```\n",
    "# 使用 df.列名\n",
    "# 使用 df[[列名1, 列名2]]\n",
    "```"
   ]
  },
  {
   "cell_type": "markdown",
   "id": "28f4a335",
   "metadata": {},
   "source": [
    "# 使用loc按照标签进行筛选行数据\n",
    "\n",
    "```\n",
    "# 两行的值  df.loc[[标签1, 标签2]]\n",
    "# 两列的值  df.loc[:, [字段1, 字段2]]\n",
    "# 所有的值  df.loc[:, :]\n",
    "# 单个值    df.loc[标签1, 列1]\n",
    "```"
   ]
  },
  {
   "cell_type": "markdown",
   "id": "a14fe45b",
   "metadata": {},
   "source": [
    "# 使用iloc按照位置筛选数据\n",
    "\n",
    "```\n",
    "# 切片    df.iloc[1:4, 5:9]\n",
    "# 3行3列  df.iloc[[1,3,5], [2,4,6]]\n",
    "```"
   ]
  },
  {
   "cell_type": "markdown",
   "id": "2f87b2aa",
   "metadata": {},
   "source": [
    "# 使用布尔索引筛选数据\n",
    "```\n",
    "# 根据列值创建条件  cond1 = df.列名>50\n",
    "# 应用条件         df[cond1]\n",
    "\n",
    "# 逻辑与           cond2 = (df.列名<50) & (df.列名>90)       \n",
    "# 逻辑或是竖线|\n",
    "# 取反条件         df[~cond2]\n",
    "\n",
    "# 离散值条件       cond3 = df.列名.isin([值1,值2,值3])\n",
    "```"
   ]
  },
  {
   "cell_type": "markdown",
   "id": "808c912c",
   "metadata": {},
   "source": [
    "# 使用query用sql筛选数据\n",
    "```\n",
    "# df.query(' Age>=25 and Salary>=5000')\n",
    "```"
   ]
  },
  {
   "cell_type": "markdown",
   "id": "0162e0de",
   "metadata": {},
   "source": [
    "# 修改DataFrame中的数据\n",
    "```\n",
    "# 在最后增加一列 df[新列名] = [值列表]或者Series类型\n",
    "\n",
    "# 修改单个值     df.loc[标签1, 字段1] = 新的值\n",
    "# 修改某个列     df.loc[:, 字段1] = 单个值\n",
    "# 修改某一列     df[列名] += 10\n",
    "# 修改某些值     df[df>128] = -df\n",
    "```"
   ]
  },
  {
   "cell_type": "markdown",
   "id": "33ab6cf4",
   "metadata": {},
   "source": [
    "# 使用loc和iloc对多层索引筛选数据"
   ]
  },
  {
   "cell_type": "markdown",
   "id": "abf188f4",
   "metadata": {},
   "source": [
    "# 简单统计函数有哪些\n",
    "```\n",
    "平均值  mean\n",
    "众数    mode\n",
    "中位数  median\n",
    "求和    sum\n",
    "最小值  min\n",
    "最大值  max\n",
    "标准差  std\n",
    "方差    var\n",
    "计数    count  不含空行\n",
    "计数    size   含空行   \n",
    "分位数  quantile([0.25, 0.5, 0.75, 1])\n",
    "描述    describe\n",
    "唯一值  value_counts()\n",
    "最小值索引 idxmin\n",
    "最大值索引 idmax\n",
    "\n",
    "```"
   ]
  },
  {
   "cell_type": "markdown",
   "id": "bf4fc0db",
   "metadata": {},
   "source": [
    "# 高级统计函数有哪些\n",
    "```\n",
    "cumsum      按字段累计和\n",
    "cummax      按字段累计最大值\n",
    "cummin      按字段累计最小值\n",
    "cumprod     按字段累计乘积\n",
    "diff        差值，对于时间序列计算环比\n",
    "pct_change  百分比变化，环比百分比\n",
    "\n",
    "```"
   ]
  },
  {
   "cell_type": "markdown",
   "id": "881125db",
   "metadata": {},
   "source": [
    "# 相关性分析函数有哪些\n",
    "```\n",
    "cov    协方差\n",
    "corr   相关性系数，常用的方法有pearson、kendall、spearman\n",
    "\n",
    "```"
   ]
  },
  {
   "cell_type": "markdown",
   "id": "15908fd7",
   "metadata": {},
   "source": [
    "# 使用groupby()对多层索引计算\n",
    "```\n",
    "# 按照最外层索引求中位数    df.groupby(level=0).median()\n",
    "```"
   ]
  },
  {
   "cell_type": "markdown",
   "id": "ef31ef2f",
   "metadata": {},
   "source": [
    "# 使用dropna()删除空数据\n",
    "```\n",
    "np.nan是空数据\n",
    "\n",
    "df1.dropna(level=0  )    # level=0表示删除行，level=1表示删除列。不写表示0\n",
    "\n",
    "df1.dropna(how='all')    # all表示该行的所有值都是空则删除，any表示该行有一个值为空则删除\n",
    "```"
   ]
  },
  {
   "cell_type": "markdown",
   "id": "2c85c0c9",
   "metadata": {},
   "source": [
    "# 使用fillna() 填充空数据\n",
    "```\n",
    "df1.fillna(value='', inplace=True)   # 使用空填充，这样就不显示NaN，inplace=True替换当前的df1内容\n",
    "\n",
    "df1.fillna(value=df1.mean().round(1), inplace=True)\n",
    "\n",
    "df1.fillna(value=df1.mean(),  method='..')  # method指的是填充方式，有backfill、pad、\n",
    "```"
   ]
  },
  {
   "cell_type": "markdown",
   "id": "eba1145d",
   "metadata": {},
   "source": [
    "# 处理异常值\n",
    "```\n",
    "3西格玛\n",
    "箱线图\n",
    "```"
   ]
  },
  {
   "cell_type": "markdown",
   "id": "0924c304",
   "metadata": {},
   "source": [
    "# 使用map()对Series转换数据\n",
    "```\n",
    "df1[列名].map(字典)                        # 没有匹配的显示Nan\n",
    "\n",
    "df1[列名].map(字典, na_action='ignore')    # 没有匹配的显示原值\n",
    " \n",
    "df1[列名].map('I am a {}'.format)          # 对值进行格式化\n",
    "\n",
    "df1[列名].map(lambda x:x+100)              # 使用函数\n",
    "```"
   ]
  },
  {
   "cell_type": "markdown",
   "id": "45de8d18",
   "metadata": {},
   "source": [
    "# 使用apply()函数对DataFrame进行数据转换\n",
    "```\n",
    "df1.apply(lambda row : row[列名] + row[列名], axis=1)\n",
    "\n",
    "df1.apply(lambda values: values[索引]+values[索引],  axis=0)\n",
    "\n",
    "df1.apply(lambda row, w1,w2:函数体, args=(w1对应的值, w2对应的值))\n",
    "```"
   ]
  },
  {
   "cell_type": "markdown",
   "id": "d1050172",
   "metadata": {},
   "source": [
    "# 使用rename改列名、该行名\n",
    "```\n",
    "df1.rename(columns={\"A\": \"a\", \"B\": \"c\"}, index={0:\"0a\",1:\"1a\"}, inplace=True)\n",
    "```"
   ]
  },
  {
   "cell_type": "markdown",
   "id": "3bbf31b0",
   "metadata": {},
   "source": [
    "# 使用transform()进行数据变换"
   ]
  },
  {
   "cell_type": "markdown",
   "id": "b32ef875",
   "metadata": {},
   "source": [
    "# 使用drop_duplicates()删除重复行的数据\n",
    "```\n",
    "df1.drop_duplicates(subset=[列1, 列2], keep='first')    # 根据指定列判断是否重复，去重时保留第1个\n",
    "```"
   ]
  },
  {
   "cell_type": "markdown",
   "id": "66dd5306",
   "metadata": {},
   "source": [
    "# 使用cut()分箱操作"
   ]
  },
  {
   "cell_type": "markdown",
   "id": "27274862",
   "metadata": {},
   "source": [
    "# 使用groupby()进行分组聚合\n",
    "```\n",
    "df1.groupby(by=[列1, 列2])\n",
    "\n",
    "df1.groupby(...).size()     # size()统计包含空 count()统计非空\n",
    "\n",
    "d1f.groupby(...).describe().T\n",
    "```"
   ]
  },
  {
   "cell_type": "markdown",
   "id": "c8d58d9b",
   "metadata": {},
   "source": [
    "# 使用apply()进行自定义聚合\n",
    "```\n",
    "df1.groupby(by=列名1).apply(lambda group: group['金额'].sum().round(2))   # 这里的group是个dataframe结构\n",
    "```"
   ]
  },
  {
   "cell_type": "markdown",
   "id": "a3baad44",
   "metadata": {},
   "source": [
    "# 使用transform() 对每个分组内的数据进行转换,结合merge可以实现over函数功能\n",
    "```\n",
    "```"
   ]
  },
  {
   "cell_type": "markdown",
   "id": "42921a4e",
   "metadata": {},
   "source": [
    "# 使用agg进新分组聚合"
   ]
  },
  {
   "cell_type": "markdown",
   "id": "33973959",
   "metadata": {},
   "source": [
    "# 分组组合时，agg、apply、transform的区别"
   ]
  },
  {
   "cell_type": "markdown",
   "id": "96177f77",
   "metadata": {},
   "source": [
    "# pivot透视表\n",
    "```\n",
    "\n",
    "```"
   ]
  }
 ],
 "metadata": {
  "kernelspec": {
   "display_name": "Python 3",
   "language": "python",
   "name": "python3"
  },
  "language_info": {
   "codemirror_mode": {
    "name": "ipython",
    "version": 3
   },
   "file_extension": ".py",
   "mimetype": "text/x-python",
   "name": "python",
   "nbconvert_exporter": "python",
   "pygments_lexer": "ipython3",
   "version": "3.11.6"
  }
 },
 "nbformat": 4,
 "nbformat_minor": 5
}
